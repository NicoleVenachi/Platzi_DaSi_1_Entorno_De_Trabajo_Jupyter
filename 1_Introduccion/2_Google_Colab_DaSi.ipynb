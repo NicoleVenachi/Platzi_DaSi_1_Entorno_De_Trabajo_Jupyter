{
  "nbformat": 4,
  "nbformat_minor": 0,
  "metadata": {
    "colab": {
      "name": "1_Google_Colab_Example.ipynb",
      "provenance": [],
      "collapsed_sections": []
    },
    "kernelspec": {
      "display_name": "Python 3",
      "name": "python3"
    },
    "language_info": {
      "name": "python"
    }
  },
  "cells": [
    {
      "cell_type": "markdown",
      "metadata": {
        "id": "VX4AXt1z06p7"
      },
      "source": [
        "# Introducción a Google Colaboratory\n",
        "\n",
        "\n",
        "\n"
      ]
    },
    {
      "cell_type": "markdown",
      "metadata": {
        "id": "3w9hDmeT1RFc"
      },
      "source": [
        "## Ejecución y edición de celdas"
      ]
    },
    {
      "cell_type": "markdown",
      "metadata": {
        "id": "kVycw82U1SNU"
      },
      "source": [
        "### Celdas de código"
      ]
    },
    {
      "cell_type": "code",
      "metadata": {
        "id": "pmj63Cv01Smg",
        "colab": {
          "base_uri": "https://localhost:8080/"
        },
        "outputId": "0d570a35-693b-4546-b1cb-1f858574dbdb"
      },
      "source": [
        "1 + 2"
      ],
      "execution_count": 1,
      "outputs": [
        {
          "output_type": "execute_result",
          "data": {
            "text/plain": [
              "3"
            ]
          },
          "metadata": {},
          "execution_count": 1
        }
      ]
    },
    {
      "cell_type": "markdown",
      "metadata": {
        "id": "BizkQMEJ1bFT"
      },
      "source": [
        "### Celdas de texto"
      ]
    },
    {
      "cell_type": "markdown",
      "metadata": {
        "id": "o1RZy_-O2qwR"
      },
      "source": [
        "#### Texto enriquericido (Funciona con MArkDown)\n",
        "\n",
        "\n"
      ]
    },
    {
      "cell_type": "markdown",
      "metadata": {
        "id": "-OXWFW_u2rNL"
      },
      "source": [
        "#### Imágenes o gifs"
      ]
    },
    {
      "cell_type": "markdown",
      "metadata": {
        "id": "k-Ui7NLh1bLf"
      },
      "source": [
        "![link text](https://media.giphy.com/media/6aGXQxkohixag/giphy.gif)"
      ]
    },
    {
      "cell_type": "markdown",
      "metadata": {
        "id": "RrNr7t6F1bP8"
      },
      "source": [
        "## Variables"
      ]
    },
    {
      "cell_type": "code",
      "metadata": {
        "id": "3jaRCHkS1bTf"
      },
      "source": [
        "variable = 1+2"
      ],
      "execution_count": 4,
      "outputs": []
    },
    {
      "cell_type": "code",
      "metadata": {
        "id": "HiN7Chx11bWf",
        "colab": {
          "base_uri": "https://localhost:8080/"
        },
        "outputId": "e141d816-fc2c-42ce-a78d-70b66b10b94c"
      },
      "source": [
        "print(variable)"
      ],
      "execution_count": 7,
      "outputs": [
        {
          "output_type": "stream",
          "name": "stdout",
          "text": [
            "3\n"
          ]
        }
      ]
    },
    {
      "cell_type": "markdown",
      "metadata": {
        "id": "RMzLQ0KF1bZY"
      },
      "source": [
        "## Línea de comandos"
      ]
    },
    {
      "cell_type": "code",
      "metadata": {
        "id": "diJyGyWw3392",
        "colab": {
          "base_uri": "https://localhost:8080/"
        },
        "outputId": "844f583e-8957-460e-92ad-bfc25908860e"
      },
      "source": [
        "!pwd\n",
        "!ls"
      ],
      "execution_count": 9,
      "outputs": [
        {
          "output_type": "stream",
          "name": "stdout",
          "text": [
            "/content\n",
            "sample_data\n"
          ]
        }
      ]
    },
    {
      "cell_type": "markdown",
      "metadata": {
        "id": "IcPvNSH64OGR"
      },
      "source": [
        "## Instalación de librerías"
      ]
    },
    {
      "cell_type": "code",
      "metadata": {
        "id": "_q-ajRSrFK1Q",
        "colab": {
          "base_uri": "https://localhost:8080/"
        },
        "outputId": "618a262f-420a-41aa-ee54-770cbc19d721"
      },
      "source": [
        "!pip install session-info"
      ],
      "execution_count": 10,
      "outputs": [
        {
          "output_type": "stream",
          "name": "stdout",
          "text": [
            "Collecting session-info\n",
            "  Downloading session_info-1.0.0.tar.gz (24 kB)\n",
            "Collecting stdlib_list\n",
            "  Downloading stdlib_list-0.8.0-py3-none-any.whl (63 kB)\n",
            "\u001b[K     |████████████████████████████████| 63 kB 2.0 MB/s \n",
            "\u001b[?25hBuilding wheels for collected packages: session-info\n",
            "  Building wheel for session-info (setup.py) ... \u001b[?25l\u001b[?25hdone\n",
            "  Created wheel for session-info: filename=session_info-1.0.0-py3-none-any.whl size=8045 sha256=f53c0d069c735864b4b7fa1cf65df65313105d256f208e6c7320becd3dd4f19f\n",
            "  Stored in directory: /root/.cache/pip/wheels/bd/ad/14/6a42359351a18337a8683854cfbba99dd782271f2d1767f87f\n",
            "Successfully built session-info\n",
            "Installing collected packages: stdlib-list, session-info\n",
            "Successfully installed session-info-1.0.0 stdlib-list-0.8.0\n"
          ]
        }
      ]
    },
    {
      "cell_type": "code",
      "metadata": {
        "id": "EvgpUkAGG1hH"
      },
      "source": [
        "import session_info"
      ],
      "execution_count": 11,
      "outputs": []
    },
    {
      "cell_type": "code",
      "metadata": {
        "id": "XXW_W6F4JjzN"
      },
      "source": [
        "session_info.show()"
      ],
      "execution_count": null,
      "outputs": []
    },
    {
      "cell_type": "markdown",
      "metadata": {
        "id": "bfbnB1rw437K"
      },
      "source": [
        "### Ciencia de datos"
      ]
    },
    {
      "cell_type": "markdown",
      "metadata": {
        "id": "Zh3EV2drAyRE"
      },
      "source": [
        "### Subir archivos"
      ]
    },
    {
      "cell_type": "code",
      "metadata": {
        "id": "o2zBdfYDAwoT"
      },
      "source": [
        "!cat 2_sample_data_iris.csv"
      ],
      "execution_count": null,
      "outputs": []
    },
    {
      "cell_type": "markdown",
      "metadata": {
        "id": "tWT-hVeekJ7Y"
      },
      "source": [
        "### Librerías para Ciencia de Datos\n",
        "\n",
        "- 📊 **matplotlib**: Generación de gráficos a partir de listas o arrays.\n",
        "- 🧑‍💻 **numpy**: Cómputo científico para la manipulación de vectores.\n",
        "- 🧑‍💻 **pandas**: Manipulación y análisis de datos de tablas y series temporales.\n",
        "- 🧑‍💻 **scipy**: Herramientas y algoritmos matemáticos.\n",
        "- 📊 **seaborn**: Visualización de datos estadísticos."
      ]
    },
    {
      "cell_type": "code",
      "metadata": {
        "id": "ARjmm8iZkKGG"
      },
      "source": [
        "import matplotlib.pyplot as plt\n",
        "import numpy as np\n",
        "import pandas as pd\n",
        "import scipy as sc\n",
        "import seaborn as sns"
      ],
      "execution_count": 19,
      "outputs": []
    },
    {
      "cell_type": "markdown",
      "metadata": {
        "id": "EMnwCNzMkKTd"
      },
      "source": [
        "### Gráficas"
      ]
    },
    {
      "cell_type": "code",
      "metadata": {
        "id": "YRzwKWVPrsv2"
      },
      "source": [
        "# load an example dataset\n",
        "from vega_datasets import data\n",
        "cars = data.cars()\n",
        "\n",
        "# plot the dataset, referencing dataframe column names\n",
        "import altair as alt\n",
        "alt.Chart(cars).mark_bar().encode(\n",
        "  x=alt.X('Miles_per_Gallon', bin=True),\n",
        "  y='count()',\n",
        ")"
      ],
      "execution_count": null,
      "outputs": []
    },
    {
      "cell_type": "code",
      "source": [
        "# load an example dataset\n",
        "from vega_datasets import data\n",
        "cars = data.cars()\n",
        "\n",
        "import altair as alt\n",
        "\n",
        "interval = alt.selection_interval()\n",
        "\n",
        "base = alt.Chart(cars).mark_point().encode(\n",
        "  y='Miles_per_Gallon',\n",
        "  color=alt.condition(interval, 'Origin', alt.value('lightgray'))\n",
        ").properties(\n",
        "  selection=interval\n",
        ")\n",
        "\n",
        "base.encode(x='Acceleration') | base.encode(x='Horsepower')"
      ],
      "metadata": {
        "id": "LakVbagN2OAU"
      },
      "execution_count": null,
      "outputs": []
    },
    {
      "cell_type": "markdown",
      "metadata": {
        "id": "MvJKNGhb8pP8"
      },
      "source": [
        "## Atajos de teclado"
      ]
    }
  ]
}